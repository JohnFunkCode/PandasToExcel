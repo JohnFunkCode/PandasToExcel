{
 "cells": [
  {
   "cell_type": "markdown",
   "metadata": {},
   "source": [
    "# A simple experiment to write a data frame to a nicely formatted spreadsheet"
   ]
  },
  {
   "cell_type": "code",
   "execution_count": 1,
   "metadata": {},
   "outputs": [],
   "source": [
    "import pandas as pd\n",
    "import xlsxwriter"
   ]
  },
  {
   "cell_type": "code",
   "execution_count": 2,
   "metadata": {},
   "outputs": [
    {
     "data": {
      "text/html": [
       "<div>\n",
       "<style scoped>\n",
       "    .dataframe tbody tr th:only-of-type {\n",
       "        vertical-align: middle;\n",
       "    }\n",
       "\n",
       "    .dataframe tbody tr th {\n",
       "        vertical-align: top;\n",
       "    }\n",
       "\n",
       "    .dataframe thead th {\n",
       "        text-align: right;\n",
       "    }\n",
       "</style>\n",
       "<table border=\"1\" class=\"dataframe\">\n",
       "  <thead>\n",
       "    <tr style=\"text-align: right;\">\n",
       "      <th></th>\n",
       "      <th>index</th>\n",
       "      <th>First Name</th>\n",
       "      <th>Last Name</th>\n",
       "      <th>Gender</th>\n",
       "      <th>Dojo</th>\n",
       "      <th>Age</th>\n",
       "      <th>Rank</th>\n",
       "      <th>Feet</th>\n",
       "      <th>Inches</th>\n",
       "      <th>Height</th>\n",
       "      <th>Weight</th>\n",
       "      <th>BMI</th>\n",
       "      <th>Events</th>\n",
       "      <th>Weapons</th>\n",
       "    </tr>\n",
       "  </thead>\n",
       "  <tbody>\n",
       "    <tr>\n",
       "      <th>0</th>\n",
       "      <td>255</td>\n",
       "      <td>Lucas</td>\n",
       "      <td>May</td>\n",
       "      <td>Male</td>\n",
       "      <td>CO- Parker</td>\n",
       "      <td>10</td>\n",
       "      <td>Yellow</td>\n",
       "      <td>4</td>\n",
       "      <td>3</td>\n",
       "      <td>4 ft. 3 in.</td>\n",
       "      <td>52</td>\n",
       "      <td>154</td>\n",
       "      <td>2 Events - Forms &amp; Sparring ($75)</td>\n",
       "      <td>None</td>\n",
       "    </tr>\n",
       "    <tr>\n",
       "      <th>1</th>\n",
       "      <td>194</td>\n",
       "      <td>jake</td>\n",
       "      <td>coleson</td>\n",
       "      <td>Male</td>\n",
       "      <td>CO- Cheyenne Mountain</td>\n",
       "      <td>10</td>\n",
       "      <td>Yellow</td>\n",
       "      <td>4</td>\n",
       "      <td>0</td>\n",
       "      <td>4</td>\n",
       "      <td>60</td>\n",
       "      <td>156</td>\n",
       "      <td>2 Events - Forms &amp; Sparring ($75)</td>\n",
       "      <td>Weapons ($35)</td>\n",
       "    </tr>\n",
       "    <tr>\n",
       "      <th>2</th>\n",
       "      <td>195</td>\n",
       "      <td>katie</td>\n",
       "      <td>coleson</td>\n",
       "      <td>Female</td>\n",
       "      <td>CO- Cheyenne Mountain</td>\n",
       "      <td>12</td>\n",
       "      <td>Yellow</td>\n",
       "      <td>4</td>\n",
       "      <td>0</td>\n",
       "      <td>4</td>\n",
       "      <td>65</td>\n",
       "      <td>161</td>\n",
       "      <td>2 Events - Forms &amp; Sparring ($75)</td>\n",
       "      <td>Weapons ($35)</td>\n",
       "    </tr>\n",
       "  </tbody>\n",
       "</table>\n",
       "</div>"
      ],
      "text/plain": [
       "   index First Name Last Name  Gender                   Dojo  Age    Rank  \\\n",
       "0    255      Lucas       May    Male             CO- Parker   10  Yellow   \n",
       "1    194       jake   coleson    Male  CO- Cheyenne Mountain   10  Yellow   \n",
       "2    195      katie   coleson  Female  CO- Cheyenne Mountain   12  Yellow   \n",
       "\n",
       "   Feet  Inches       Height  Weight  BMI                             Events  \\\n",
       "0     4       3  4 ft. 3 in.      52  154  2 Events - Forms & Sparring ($75)   \n",
       "1     4       0            4      60  156  2 Events - Forms & Sparring ($75)   \n",
       "2     4       0            4      65  161  2 Events - Forms & Sparring ($75)   \n",
       "\n",
       "         Weapons  \n",
       "0           None  \n",
       "1  Weapons ($35)  \n",
       "2  Weapons ($35)  "
      ]
     },
     "execution_count": 2,
     "metadata": {},
     "output_type": "execute_result"
    }
   ],
   "source": [
    "# setup a dataframe with some data\n",
    "columns=['index','First Name','Last Name','Gender','Dojo','Age','Rank','Feet','Inches','Height','Weight','BMI','Events','Weapons']\n",
    "data=[(255,'Lucas','May','Male','CO- Parker',10,'Yellow',4,3,'4 ft. 3 in.',52,154,'2 Events - Forms & Sparring ($75)','None'),\n",
    "      (194,'jake','coleson','Male','CO- Cheyenne Mountain',10,'Yellow',4,0,'4',60,156,'2 Events - Forms & Sparring ($75)','Weapons ($35)'),\n",
    "      (195,'katie','coleson','Female','CO- Cheyenne Mountain',12,'Yellow',4,0,'4',65,161,'2 Events - Forms & Sparring ($75)','Weapons ($35)')]\n",
    "df=pd.DataFrame(data,columns=columns)\n",
    "df"
   ]
  },
  {
   "cell_type": "markdown",
   "metadata": {},
   "source": [
    "### See Pandas Excel Example at: https://xlsxwriter.readthedocs.io/example_pandas_simple.html"
   ]
  },
  {
   "cell_type": "code",
   "execution_count": 3,
   "metadata": {},
   "outputs": [],
   "source": [
    "#setup variables for the filename and the name of the sheet\n",
    "filename=\"test.xlsx\"\n",
    "sheetname='Compettitors'\n"
   ]
  },
  {
   "cell_type": "code",
   "execution_count": 4,
   "metadata": {},
   "outputs": [],
   "source": [
    "#Create a writer and write the dataframe to it\n",
    "writer=pd.ExcelWriter(filename,engine='xlsxwriter')\n",
    "df.to_excel(writer,sheetname)"
   ]
  },
  {
   "cell_type": "markdown",
   "metadata": {},
   "source": [
    "### See cell formats at: https://xlsxwriter.readthedocs.io/format.html"
   ]
  },
  {
   "cell_type": "code",
   "execution_count": 5,
   "metadata": {},
   "outputs": [
    {
     "data": {
      "text/plain": [
       "0"
      ]
     },
     "execution_count": 5,
     "metadata": {},
     "output_type": "execute_result"
    }
   ],
   "source": [
    "##setup the spreadsheet to make it look better in print\n",
    "workbook = writer.book\n",
    "worksheet = writer.sheets[sheetname]\n",
    "\n",
    "#define some formats\n",
    "align_center=workbook.add_format()\n",
    "align_center.set_align('center')\n",
    "align_center.set_border(1)\n",
    "\n",
    "align_left=workbook.add_format()\n",
    "align_left.set_align('left')\n",
    "align_left.set_border(1)\n",
    "\n",
    "full_border=workbook.add_format()\n",
    "full_border.set_border(1)\n",
    "\n",
    "#set the format of a few columns\n",
    "worksheet.set_column('A:O',5,full_border)  #column A:O is everything\n",
    "\n",
    "worksheet.set_column('A:A',5,align_left)  #column A is the dataframe index\n",
    "worksheet.set_column('B:B',10,align_left)  #column B is Index field\n",
    "worksheet.set_column('C:C',20,align_left)  #column C is Fist Name\n",
    "worksheet.set_column('D:D',20,align_left)  #column D is Last Name\n",
    "worksheet.set_column('E:E',20,align_left)  #column E is Gender\n",
    "worksheet.set_column('F:F',30,align_left)  #column F is Dojo\n",
    "worksheet.set_column('G:G',15,align_center)  #column G is Age\n",
    "worksheet.set_column('H:H',10,align_left)  #column H is Rank\n",
    "worksheet.set_column('I:I',5,align_center)  #column I is Feet\n",
    "worksheet.set_column('J:J',7,align_center)  #column I is Inches\n",
    "worksheet.set_column('K:K',10,align_left)  #column K is Height\n",
    "worksheet.set_column('L:L',10,align_center)  #column L is Weight\n",
    "worksheet.set_column('M:M',20,align_center)  #column M is BMI\n",
    "worksheet.set_column('N:N',35,align_left)  #column N is Events\n",
    "worksheet.set_column('O:O',15,align_left)  #column O is Weapons"
   ]
  },
  {
   "cell_type": "code",
   "execution_count": 6,
   "metadata": {},
   "outputs": [],
   "source": [
    "#don't forget to save it to disk\n",
    "writer.save()"
   ]
  },
  {
   "cell_type": "code",
   "execution_count": null,
   "metadata": {},
   "outputs": [],
   "source": []
  }
 ],
 "metadata": {
  "kernelspec": {
   "display_name": "Python 3",
   "language": "python",
   "name": "python3"
  },
  "language_info": {
   "codemirror_mode": {
    "name": "ipython",
    "version": 3
   },
   "file_extension": ".py",
   "mimetype": "text/x-python",
   "name": "python",
   "nbconvert_exporter": "python",
   "pygments_lexer": "ipython3",
   "version": "3.6.5"
  }
 },
 "nbformat": 4,
 "nbformat_minor": 2
}
